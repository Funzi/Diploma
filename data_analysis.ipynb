{
 "cells": [
  {
   "cell_type": "code",
   "execution_count": 1,
   "metadata": {},
   "outputs": [
    {
     "name": "stderr",
     "output_type": "stream",
     "text": [
      "/home/dave/anaconda3/lib/python3.6/site-packages/IPython/core/interactiveshell.py:2728: DtypeWarning: Columns (10) have mixed types. Specify dtype option on import or set low_memory=False.\n",
      "  interactivity=interactivity, compiler=compiler, result=result)\n"
     ]
    },
    {
     "data": {
      "text/html": [
       "<div>\n",
       "<style scoped>\n",
       "    .dataframe tbody tr th:only-of-type {\n",
       "        vertical-align: middle;\n",
       "    }\n",
       "\n",
       "    .dataframe tbody tr th {\n",
       "        vertical-align: top;\n",
       "    }\n",
       "\n",
       "    .dataframe thead th {\n",
       "        text-align: right;\n",
       "    }\n",
       "</style>\n",
       "<table border=\"1\" class=\"dataframe\">\n",
       "  <thead>\n",
       "    <tr style=\"text-align: right;\">\n",
       "      <th></th>\n",
       "      <th>id</th>\n",
       "      <th>user</th>\n",
       "      <th>place_asked</th>\n",
       "      <th>place_answered</th>\n",
       "      <th>type</th>\n",
       "      <th>response_time</th>\n",
       "      <th>place_map</th>\n",
       "      <th>language</th>\n",
       "      <th>ip_id</th>\n",
       "    </tr>\n",
       "  </thead>\n",
       "  <tbody>\n",
       "    <tr>\n",
       "      <th>count</th>\n",
       "      <td>1.008730e+07</td>\n",
       "      <td>1.008730e+07</td>\n",
       "      <td>1.008730e+07</td>\n",
       "      <td>9.805599e+06</td>\n",
       "      <td>1.008730e+07</td>\n",
       "      <td>1.008730e+07</td>\n",
       "      <td>9.590318e+06</td>\n",
       "      <td>1.008730e+07</td>\n",
       "      <td>9.313760e+06</td>\n",
       "    </tr>\n",
       "    <tr>\n",
       "      <th>mean</th>\n",
       "      <td>5.057236e+06</td>\n",
       "      <td>5.992753e+04</td>\n",
       "      <td>4.918974e+02</td>\n",
       "      <td>4.880717e+02</td>\n",
       "      <td>1.158527e+00</td>\n",
       "      <td>1.388761e+07</td>\n",
       "      <td>1.872767e+02</td>\n",
       "      <td>5.638374e-02</td>\n",
       "      <td>1.778498e+04</td>\n",
       "    </tr>\n",
       "    <tr>\n",
       "      <th>std</th>\n",
       "      <td>2.913090e+06</td>\n",
       "      <td>3.574237e+04</td>\n",
       "      <td>4.610208e+02</td>\n",
       "      <td>4.598886e+02</td>\n",
       "      <td>3.652348e-01</td>\n",
       "      <td>1.734263e+08</td>\n",
       "      <td>6.405243e+01</td>\n",
       "      <td>2.565005e-01</td>\n",
       "      <td>1.284761e+04</td>\n",
       "    </tr>\n",
       "    <tr>\n",
       "      <th>min</th>\n",
       "      <td>2.407000e+03</td>\n",
       "      <td>7.500000e+01</td>\n",
       "      <td>1.000000e+00</td>\n",
       "      <td>1.000000e+00</td>\n",
       "      <td>1.000000e+00</td>\n",
       "      <td>3.000000e+00</td>\n",
       "      <td>5.800000e+01</td>\n",
       "      <td>0.000000e+00</td>\n",
       "      <td>2.000000e+00</td>\n",
       "    </tr>\n",
       "    <tr>\n",
       "      <th>25%</th>\n",
       "      <td>2.535713e+06</td>\n",
       "      <td>2.827000e+04</td>\n",
       "      <td>1.280000e+02</td>\n",
       "      <td>1.260000e+02</td>\n",
       "      <td>1.000000e+00</td>\n",
       "      <td>2.559000e+03</td>\n",
       "      <td>1.150000e+02</td>\n",
       "      <td>0.000000e+00</td>\n",
       "      <td>6.769000e+03</td>\n",
       "    </tr>\n",
       "    <tr>\n",
       "      <th>50%</th>\n",
       "      <td>5.057811e+06</td>\n",
       "      <td>6.134200e+04</td>\n",
       "      <td>2.170000e+02</td>\n",
       "      <td>2.160000e+02</td>\n",
       "      <td>1.000000e+00</td>\n",
       "      <td>3.733000e+03</td>\n",
       "      <td>2.270000e+02</td>\n",
       "      <td>0.000000e+00</td>\n",
       "      <td>1.567400e+04</td>\n",
       "    </tr>\n",
       "    <tr>\n",
       "      <th>75%</th>\n",
       "      <td>7.579838e+06</td>\n",
       "      <td>8.926200e+04</td>\n",
       "      <td>9.830000e+02</td>\n",
       "      <td>9.780000e+02</td>\n",
       "      <td>1.000000e+00</td>\n",
       "      <td>6.161000e+03</td>\n",
       "      <td>2.300000e+02</td>\n",
       "      <td>0.000000e+00</td>\n",
       "      <td>2.776700e+04</td>\n",
       "    </tr>\n",
       "    <tr>\n",
       "      <th>max</th>\n",
       "      <td>1.010184e+07</td>\n",
       "      <td>1.242560e+05</td>\n",
       "      <td>1.473000e+03</td>\n",
       "      <td>1.473000e+03</td>\n",
       "      <td>2.000000e+00</td>\n",
       "      <td>4.294967e+09</td>\n",
       "      <td>2.320000e+02</td>\n",
       "      <td>2.000000e+00</td>\n",
       "      <td>4.528100e+04</td>\n",
       "    </tr>\n",
       "  </tbody>\n",
       "</table>\n",
       "</div>"
      ],
      "text/plain": [
       "                 id          user   place_asked  place_answered          type  \\\n",
       "count  1.008730e+07  1.008730e+07  1.008730e+07    9.805599e+06  1.008730e+07   \n",
       "mean   5.057236e+06  5.992753e+04  4.918974e+02    4.880717e+02  1.158527e+00   \n",
       "std    2.913090e+06  3.574237e+04  4.610208e+02    4.598886e+02  3.652348e-01   \n",
       "min    2.407000e+03  7.500000e+01  1.000000e+00    1.000000e+00  1.000000e+00   \n",
       "25%    2.535713e+06  2.827000e+04  1.280000e+02    1.260000e+02  1.000000e+00   \n",
       "50%    5.057811e+06  6.134200e+04  2.170000e+02    2.160000e+02  1.000000e+00   \n",
       "75%    7.579838e+06  8.926200e+04  9.830000e+02    9.780000e+02  1.000000e+00   \n",
       "max    1.010184e+07  1.242560e+05  1.473000e+03    1.473000e+03  2.000000e+00   \n",
       "\n",
       "       response_time     place_map      language         ip_id  \n",
       "count   1.008730e+07  9.590318e+06  1.008730e+07  9.313760e+06  \n",
       "mean    1.388761e+07  1.872767e+02  5.638374e-02  1.778498e+04  \n",
       "std     1.734263e+08  6.405243e+01  2.565005e-01  1.284761e+04  \n",
       "min     3.000000e+00  5.800000e+01  0.000000e+00  2.000000e+00  \n",
       "25%     2.559000e+03  1.150000e+02  0.000000e+00  6.769000e+03  \n",
       "50%     3.733000e+03  2.270000e+02  0.000000e+00  1.567400e+04  \n",
       "75%     6.161000e+03  2.300000e+02  0.000000e+00  2.776700e+04  \n",
       "max     4.294967e+09  2.320000e+02  2.000000e+00  4.528100e+04  "
      ]
     },
     "execution_count": 1,
     "metadata": {},
     "output_type": "execute_result"
    }
   ],
   "source": [
    "import pandas as pd\n",
    "import evaluation_helper as eval\n",
    "\n",
    "# Read in data\n",
    "\n",
    "features = pd.read_csv('./data/answer.csv', sep=';')\n",
    "#features = pd.read_csv('../data/answer.csv', sep=';')\n",
    "\n",
    "features.describe()"
   ]
  },
  {
   "cell_type": "code",
   "execution_count": 2,
   "metadata": {},
   "outputs": [],
   "source": [
    "# Parsing labels\n",
    "import numpy as np\n",
    "questions = np.array(features['place_asked'])\n"
   ]
  },
  {
   "cell_type": "code",
   "execution_count": 3,
   "metadata": {},
   "outputs": [
    {
     "data": {
      "text/plain": [
       "1458"
      ]
     },
     "execution_count": 3,
     "metadata": {},
     "output_type": "execute_result"
    }
   ],
   "source": [
    "len(np.unique(questions))"
   ]
  },
  {
   "cell_type": "code",
   "execution_count": 4,
   "metadata": {},
   "outputs": [],
   "source": [
    "questions = np.array(features['place_asked'])\n",
    "answers = np.array(features['place_answered'])\n",
    "labels = np.equal(questions, answers)\n",
    "labels = list(map(lambda x: 1 if x else 0, labels))\n",
    "labels = np.array(labels)\n"
   ]
  },
  {
   "cell_type": "code",
   "execution_count": 5,
   "metadata": {},
   "outputs": [
    {
     "data": {
      "text/html": [
       "<div>\n",
       "<style scoped>\n",
       "    .dataframe tbody tr th:only-of-type {\n",
       "        vertical-align: middle;\n",
       "    }\n",
       "\n",
       "    .dataframe tbody tr th {\n",
       "        vertical-align: top;\n",
       "    }\n",
       "\n",
       "    .dataframe thead th {\n",
       "        text-align: right;\n",
       "    }\n",
       "</style>\n",
       "<table border=\"1\" class=\"dataframe\">\n",
       "  <thead>\n",
       "    <tr style=\"text-align: right;\">\n",
       "      <th></th>\n",
       "      <th>id</th>\n",
       "      <th>user</th>\n",
       "      <th>place_asked</th>\n",
       "      <th>place_answered</th>\n",
       "      <th>type</th>\n",
       "      <th>inserted</th>\n",
       "      <th>response_time</th>\n",
       "      <th>place_map</th>\n",
       "      <th>language</th>\n",
       "      <th>options</th>\n",
       "      <th>ip_country</th>\n",
       "      <th>ip_id</th>\n",
       "      <th>correct</th>\n",
       "    </tr>\n",
       "  </thead>\n",
       "  <tbody>\n",
       "    <tr>\n",
       "      <th>9493500</th>\n",
       "      <td>9507976</td>\n",
       "      <td>116635</td>\n",
       "      <td>1222</td>\n",
       "      <td>1222.0</td>\n",
       "      <td>1</td>\n",
       "      <td>2015-05-04 20:11:08</td>\n",
       "      <td>5735</td>\n",
       "      <td>228.0</td>\n",
       "      <td>0</td>\n",
       "      <td>[]</td>\n",
       "      <td>CZ</td>\n",
       "      <td>22148.0</td>\n",
       "      <td>1</td>\n",
       "    </tr>\n",
       "    <tr>\n",
       "      <th>7319998</th>\n",
       "      <td>7334358</td>\n",
       "      <td>87250</td>\n",
       "      <td>1262</td>\n",
       "      <td>1262.0</td>\n",
       "      <td>1</td>\n",
       "      <td>2015-03-01 16:52:31</td>\n",
       "      <td>2456</td>\n",
       "      <td>79.0</td>\n",
       "      <td>0</td>\n",
       "      <td>[]</td>\n",
       "      <td>CZ</td>\n",
       "      <td>32896.0</td>\n",
       "      <td>1</td>\n",
       "    </tr>\n",
       "    <tr>\n",
       "      <th>2645077</th>\n",
       "      <td>2658994</td>\n",
       "      <td>29447</td>\n",
       "      <td>51</td>\n",
       "      <td>NaN</td>\n",
       "      <td>1</td>\n",
       "      <td>2014-10-06 20:04:58</td>\n",
       "      <td>4314</td>\n",
       "      <td>230.0</td>\n",
       "      <td>0</td>\n",
       "      <td>[]</td>\n",
       "      <td>CZ</td>\n",
       "      <td>10435.0</td>\n",
       "      <td>0</td>\n",
       "    </tr>\n",
       "    <tr>\n",
       "      <th>8206752</th>\n",
       "      <td>8221113</td>\n",
       "      <td>98736</td>\n",
       "      <td>1244</td>\n",
       "      <td>1239.0</td>\n",
       "      <td>1</td>\n",
       "      <td>2015-03-26 16:42:11</td>\n",
       "      <td>5559</td>\n",
       "      <td>79.0</td>\n",
       "      <td>0</td>\n",
       "      <td>[1234, 1244, 1239]</td>\n",
       "      <td>CZ</td>\n",
       "      <td>37052.0</td>\n",
       "      <td>0</td>\n",
       "    </tr>\n",
       "    <tr>\n",
       "      <th>240394</th>\n",
       "      <td>246775</td>\n",
       "      <td>2302</td>\n",
       "      <td>63</td>\n",
       "      <td>63.0</td>\n",
       "      <td>1</td>\n",
       "      <td>2014-02-05 12:39:47</td>\n",
       "      <td>1998</td>\n",
       "      <td>NaN</td>\n",
       "      <td>0</td>\n",
       "      <td>[]</td>\n",
       "      <td>NaN</td>\n",
       "      <td>NaN</td>\n",
       "      <td>1</td>\n",
       "    </tr>\n",
       "    <tr>\n",
       "      <th>5195268</th>\n",
       "      <td>5209427</td>\n",
       "      <td>63401</td>\n",
       "      <td>122</td>\n",
       "      <td>122.0</td>\n",
       "      <td>1</td>\n",
       "      <td>2015-01-04 17:26:53</td>\n",
       "      <td>3480</td>\n",
       "      <td>227.0</td>\n",
       "      <td>0</td>\n",
       "      <td>[]</td>\n",
       "      <td>CZ</td>\n",
       "      <td>10824.0</td>\n",
       "      <td>1</td>\n",
       "    </tr>\n",
       "    <tr>\n",
       "      <th>5156037</th>\n",
       "      <td>5170196</td>\n",
       "      <td>62993</td>\n",
       "      <td>362</td>\n",
       "      <td>362.0</td>\n",
       "      <td>1</td>\n",
       "      <td>2015-01-03 18:29:50</td>\n",
       "      <td>3278</td>\n",
       "      <td>230.0</td>\n",
       "      <td>0</td>\n",
       "      <td>[]</td>\n",
       "      <td>CZ</td>\n",
       "      <td>12118.0</td>\n",
       "      <td>1</td>\n",
       "    </tr>\n",
       "    <tr>\n",
       "      <th>420155</th>\n",
       "      <td>428039</td>\n",
       "      <td>3965</td>\n",
       "      <td>199</td>\n",
       "      <td>199.0</td>\n",
       "      <td>1</td>\n",
       "      <td>2014-03-02 19:34:44</td>\n",
       "      <td>2565</td>\n",
       "      <td>NaN</td>\n",
       "      <td>0</td>\n",
       "      <td>[]</td>\n",
       "      <td>NaN</td>\n",
       "      <td>NaN</td>\n",
       "      <td>1</td>\n",
       "    </tr>\n",
       "    <tr>\n",
       "      <th>5657732</th>\n",
       "      <td>5671901</td>\n",
       "      <td>62599</td>\n",
       "      <td>478</td>\n",
       "      <td>478.0</td>\n",
       "      <td>1</td>\n",
       "      <td>2015-01-13 22:24:54</td>\n",
       "      <td>5510</td>\n",
       "      <td>230.0</td>\n",
       "      <td>0</td>\n",
       "      <td>[]</td>\n",
       "      <td>CZ</td>\n",
       "      <td>23562.0</td>\n",
       "      <td>1</td>\n",
       "    </tr>\n",
       "    <tr>\n",
       "      <th>6553403</th>\n",
       "      <td>6567753</td>\n",
       "      <td>78101</td>\n",
       "      <td>1236</td>\n",
       "      <td>1236.0</td>\n",
       "      <td>1</td>\n",
       "      <td>2015-02-06 12:08:31</td>\n",
       "      <td>2175</td>\n",
       "      <td>79.0</td>\n",
       "      <td>0</td>\n",
       "      <td>[]</td>\n",
       "      <td>CZ</td>\n",
       "      <td>29536.0</td>\n",
       "      <td>1</td>\n",
       "    </tr>\n",
       "  </tbody>\n",
       "</table>\n",
       "</div>"
      ],
      "text/plain": [
       "              id    user  place_asked  place_answered  type  \\\n",
       "9493500  9507976  116635         1222          1222.0     1   \n",
       "7319998  7334358   87250         1262          1262.0     1   \n",
       "2645077  2658994   29447           51             NaN     1   \n",
       "8206752  8221113   98736         1244          1239.0     1   \n",
       "240394    246775    2302           63            63.0     1   \n",
       "5195268  5209427   63401          122           122.0     1   \n",
       "5156037  5170196   62993          362           362.0     1   \n",
       "420155    428039    3965          199           199.0     1   \n",
       "5657732  5671901   62599          478           478.0     1   \n",
       "6553403  6567753   78101         1236          1236.0     1   \n",
       "\n",
       "                    inserted  response_time  place_map  language  \\\n",
       "9493500  2015-05-04 20:11:08           5735      228.0         0   \n",
       "7319998  2015-03-01 16:52:31           2456       79.0         0   \n",
       "2645077  2014-10-06 20:04:58           4314      230.0         0   \n",
       "8206752  2015-03-26 16:42:11           5559       79.0         0   \n",
       "240394   2014-02-05 12:39:47           1998        NaN         0   \n",
       "5195268  2015-01-04 17:26:53           3480      227.0         0   \n",
       "5156037  2015-01-03 18:29:50           3278      230.0         0   \n",
       "420155   2014-03-02 19:34:44           2565        NaN         0   \n",
       "5657732  2015-01-13 22:24:54           5510      230.0         0   \n",
       "6553403  2015-02-06 12:08:31           2175       79.0         0   \n",
       "\n",
       "                    options ip_country    ip_id  correct  \n",
       "9493500                  []         CZ  22148.0        1  \n",
       "7319998                  []         CZ  32896.0        1  \n",
       "2645077                  []         CZ  10435.0        0  \n",
       "8206752  [1234, 1244, 1239]         CZ  37052.0        0  \n",
       "240394                   []        NaN      NaN        1  \n",
       "5195268                  []         CZ  10824.0        1  \n",
       "5156037                  []         CZ  12118.0        1  \n",
       "420155                   []        NaN      NaN        1  \n",
       "5657732                  []         CZ  23562.0        1  \n",
       "6553403                  []         CZ  29536.0        1  "
      ]
     },
     "execution_count": 5,
     "metadata": {},
     "output_type": "execute_result"
    }
   ],
   "source": [
    "features['correct'] = labels\n",
    "features.sample(10)"
   ]
  },
  {
   "cell_type": "code",
   "execution_count": 6,
   "metadata": {},
   "outputs": [
    {
     "data": {
      "text/html": [
       "<div>\n",
       "<style scoped>\n",
       "    .dataframe tbody tr th:only-of-type {\n",
       "        vertical-align: middle;\n",
       "    }\n",
       "\n",
       "    .dataframe tbody tr th {\n",
       "        vertical-align: top;\n",
       "    }\n",
       "\n",
       "    .dataframe thead th {\n",
       "        text-align: right;\n",
       "    }\n",
       "</style>\n",
       "<table border=\"1\" class=\"dataframe\">\n",
       "  <thead>\n",
       "    <tr style=\"text-align: right;\">\n",
       "      <th></th>\n",
       "      <th>place_asked</th>\n",
       "      <th>name</th>\n",
       "    </tr>\n",
       "  </thead>\n",
       "  <tbody>\n",
       "    <tr>\n",
       "      <th>1181</th>\n",
       "      <td>1189</td>\n",
       "      <td>Dubai</td>\n",
       "    </tr>\n",
       "    <tr>\n",
       "      <th>287</th>\n",
       "      <td>295</td>\n",
       "      <td>Uttaranchal</td>\n",
       "    </tr>\n",
       "    <tr>\n",
       "      <th>766</th>\n",
       "      <td>774</td>\n",
       "      <td>Nice</td>\n",
       "    </tr>\n",
       "    <tr>\n",
       "      <th>127</th>\n",
       "      <td>133</td>\n",
       "      <td>Cuba</td>\n",
       "    </tr>\n",
       "    <tr>\n",
       "      <th>833</th>\n",
       "      <td>841</td>\n",
       "      <td>Trinidad and Tobago</td>\n",
       "    </tr>\n",
       "  </tbody>\n",
       "</table>\n",
       "</div>"
      ],
      "text/plain": [
       "      place_asked                 name\n",
       "1181         1189                Dubai\n",
       "287           295          Uttaranchal\n",
       "766           774                 Nice\n",
       "127           133                 Cuba\n",
       "833           841  Trinidad and Tobago"
      ]
     },
     "execution_count": 6,
     "metadata": {},
     "output_type": "execute_result"
    }
   ],
   "source": [
    "codes = pd.read_csv('./data/place_code.csv', sep=';')\n",
    "codes = codes[['id','name']]\n",
    "codes = codes.rename(index=str, columns={\"id\":\"place_asked\", \"name\":\"name\"})\n",
    "codes.sample(5)"
   ]
  },
  {
   "cell_type": "code",
   "execution_count": 7,
   "metadata": {},
   "outputs": [],
   "source": [
    "ids = [i for i in range(51,224)]\n",
    "filtered = features[features['place_asked'].isin(ids)]\n",
    "grouped = filtered.groupby('place_asked')['correct'].agg([['averages','mean']])\n"
   ]
  },
  {
   "cell_type": "code",
   "execution_count": 8,
   "metadata": {},
   "outputs": [],
   "source": [
    "grouped = codes.merge(grouped,left_on='place_asked', right_on='place_asked')\n",
    "grouped.to_csv(\"./analysis/answer_averages.csv\")"
   ]
  },
  {
   "cell_type": "code",
   "execution_count": 9,
   "metadata": {},
   "outputs": [],
   "source": [
    "counted = filtered.groupby('place_asked')['correct'].agg([['count','count']]).sort_values(by=['count'])"
   ]
  },
  {
   "cell_type": "code",
   "execution_count": 10,
   "metadata": {},
   "outputs": [
    {
     "data": {
      "text/html": [
       "<div>\n",
       "<style scoped>\n",
       "    .dataframe tbody tr th:only-of-type {\n",
       "        vertical-align: middle;\n",
       "    }\n",
       "\n",
       "    .dataframe tbody tr th {\n",
       "        vertical-align: top;\n",
       "    }\n",
       "\n",
       "    .dataframe thead th {\n",
       "        text-align: right;\n",
       "    }\n",
       "</style>\n",
       "<table border=\"1\" class=\"dataframe\">\n",
       "  <thead>\n",
       "    <tr style=\"text-align: right;\">\n",
       "      <th></th>\n",
       "      <th>place_asked</th>\n",
       "      <th>name</th>\n",
       "      <th>count</th>\n",
       "    </tr>\n",
       "  </thead>\n",
       "  <tbody>\n",
       "    <tr>\n",
       "      <th>73</th>\n",
       "      <td>127</td>\n",
       "      <td>Qatar</td>\n",
       "      <td>15887</td>\n",
       "    </tr>\n",
       "    <tr>\n",
       "      <th>12</th>\n",
       "      <td>66</td>\n",
       "      <td>Belarus</td>\n",
       "      <td>55311</td>\n",
       "    </tr>\n",
       "    <tr>\n",
       "      <th>87</th>\n",
       "      <td>141</td>\n",
       "      <td>Libya</td>\n",
       "      <td>28055</td>\n",
       "    </tr>\n",
       "    <tr>\n",
       "      <th>102</th>\n",
       "      <td>156</td>\n",
       "      <td>Mozambique</td>\n",
       "      <td>22868</td>\n",
       "    </tr>\n",
       "    <tr>\n",
       "      <th>3</th>\n",
       "      <td>57</td>\n",
       "      <td>Angola</td>\n",
       "      <td>19338</td>\n",
       "    </tr>\n",
       "    <tr>\n",
       "      <th>162</th>\n",
       "      <td>216</td>\n",
       "      <td>Ukraine</td>\n",
       "      <td>52005</td>\n",
       "    </tr>\n",
       "    <tr>\n",
       "      <th>100</th>\n",
       "      <td>154</td>\n",
       "      <td>Moldova</td>\n",
       "      <td>49472</td>\n",
       "    </tr>\n",
       "    <tr>\n",
       "      <th>53</th>\n",
       "      <td>107</td>\n",
       "      <td>Chile</td>\n",
       "      <td>25586</td>\n",
       "    </tr>\n",
       "    <tr>\n",
       "      <th>127</th>\n",
       "      <td>181</td>\n",
       "      <td>Romania</td>\n",
       "      <td>57881</td>\n",
       "    </tr>\n",
       "    <tr>\n",
       "      <th>26</th>\n",
       "      <td>80</td>\n",
       "      <td>China</td>\n",
       "      <td>24667</td>\n",
       "    </tr>\n",
       "  </tbody>\n",
       "</table>\n",
       "</div>"
      ],
      "text/plain": [
       "     place_asked        name  count\n",
       "73           127       Qatar  15887\n",
       "12            66     Belarus  55311\n",
       "87           141       Libya  28055\n",
       "102          156  Mozambique  22868\n",
       "3             57      Angola  19338\n",
       "162          216     Ukraine  52005\n",
       "100          154     Moldova  49472\n",
       "53           107       Chile  25586\n",
       "127          181     Romania  57881\n",
       "26            80       China  24667"
      ]
     },
     "execution_count": 10,
     "metadata": {},
     "output_type": "execute_result"
    }
   ],
   "source": [
    "counted.sort_values(by=['count'])\n",
    "counted = codes.merge(counted,left_on='place_asked', right_on='place_asked')\n",
    "counted.to_csv(\"./analysis/counted.csv\")\n",
    "counted.sample(10)"
   ]
  },
  {
   "cell_type": "code",
   "execution_count": 11,
   "metadata": {},
   "outputs": [
    {
     "data": {
      "text/plain": [
       "id                10087305\n",
       "user              10087305\n",
       "place_asked       10087305\n",
       "place_answered     9805599\n",
       "type              10087305\n",
       "inserted          10087305\n",
       "response_time     10087305\n",
       "place_map          9590318\n",
       "language          10087305\n",
       "options           10087305\n",
       "ip_country         9306134\n",
       "ip_id              9313760\n",
       "correct           10087305\n",
       "dtype: int64"
      ]
     },
     "execution_count": 11,
     "metadata": {},
     "output_type": "execute_result"
    }
   ],
   "source": [
    "features.sample(5)\n",
    "features.count()"
   ]
  },
  {
   "cell_type": "code",
   "execution_count": 12,
   "metadata": {},
   "outputs": [],
   "source": [
    "averages = []\n",
    "for i in range(100):\n",
    "    temp = features[i*100000:(i+1)*100000]\n",
    "    avg = temp['correct'].mean() \n",
    "    averages.append(avg)"
   ]
  },
  {
   "cell_type": "code",
   "execution_count": 13,
   "metadata": {},
   "outputs": [],
   "source": [
    "%matplotlib inline\n",
    "import matplotlib.pyplot as plt\n",
    "\n"
   ]
  },
  {
   "cell_type": "code",
   "execution_count": 14,
   "metadata": {},
   "outputs": [
    {
     "data": {
      "text/plain": [
       "[<matplotlib.lines.Line2D at 0x7feea9b0d940>]"
      ]
     },
     "execution_count": 14,
     "metadata": {},
     "output_type": "execute_result"
    },
    {
     "data": {
      "image/png": "[encoded data removed]",
      "text/plain": [
       "<Figure size 432x288 with 1 Axes>"
      ]
     },
     "metadata": {},
     "output_type": "display_data"
    }
   ],
   "source": [
    "fig, ax = plt.subplots()\n",
    "x = [x for x in range(100)]\n",
    "ax.set(ylabel='Average correctness')\n",
    "ax.plot(x, averages)"
   ]
  },
  {
   "cell_type": "code",
   "execution_count": 15,
   "metadata": {},
   "outputs": [
    {
     "data": {
      "text/plain": [
       "<matplotlib.collections.PathCollection at 0x7feea7a7a9b0>"
      ]
     },
     "execution_count": 15,
     "metadata": {},
     "output_type": "execute_result"
    },
    {
     "data": {
      "image/png": "[encoded data removed]",
      "text/plain": [
       "<Figure size 432x288 with 1 Axes>"
      ]
     },
     "metadata": {},
     "output_type": "display_data"
    }
   ],
   "source": [
    "averages = grouped['averages']\n",
    "y = [x for x in range(len(averages))]\n",
    "fig, ax = plt.subplots()\n",
    "ax.set(ylabel='Average correctness', xlabel='Question Id')\n",
    "ax.scatter(y, averages)\n"
   ]
  },
  {
   "cell_type": "code",
   "execution_count": 16,
   "metadata": {},
   "outputs": [
    {
     "name": "stdout",
     "output_type": "stream",
     "text": [
      "id                10087305\n",
      "user              10087305\n",
      "place_asked       10087305\n",
      "place_answered     9805599\n",
      "type              10087305\n",
      "inserted          10087305\n",
      "response_time     10087305\n",
      "place_map          9590318\n",
      "language          10087305\n",
      "options           10087305\n",
      "ip_country         9306134\n",
      "ip_id              9313760\n",
      "correct           10087305\n",
      "dtype: int64\n",
      "id                4580490\n",
      "user              4580490\n",
      "place_asked       4580490\n",
      "place_answered    4480661\n",
      "type              4580490\n",
      "inserted          4580490\n",
      "response_time     4580490\n",
      "place_map         4182678\n",
      "language          4580490\n",
      "options           4580490\n",
      "ip_country        4027078\n",
      "ip_id             4031549\n",
      "correct           4580490\n",
      "dtype: int64\n"
     ]
    }
   ],
   "source": [
    "print(features.count())\n",
    "print(filtered.count())"
   ]
  },
  {
   "cell_type": "code",
   "execution_count": 17,
   "metadata": {},
   "outputs": [
    {
     "data": {
      "text/plain": [
       "<matplotlib.collections.PathCollection at 0x7feea79e1c18>"
      ]
     },
     "execution_count": 17,
     "metadata": {},
     "output_type": "execute_result"
    },
    {
     "data": {
      "image/png": "[encoded data removed]",
      "text/plain": [
       "<Figure size 432x288 with 1 Axes>"
      ]
     },
     "metadata": {},
     "output_type": "display_data"
    }
   ],
   "source": [
    "count_x = counted['count']\n",
    "count_x.describe()\n",
    "y = [x for x in range(len(count_x))]\n",
    "fig, ax = plt.subplots()\n",
    "ax.set(ylabel='Count', xlabel='Question Id')\n",
    "ax.scatter(y, count_x)"
   ]
  },
  {
   "cell_type": "code",
   "execution_count": 20,
   "metadata": {},
   "outputs": [
    {
     "data": {
      "text/plain": [
       "id                4580490\n",
       "user              4580490\n",
       "place_asked       4580490\n",
       "place_answered    4480661\n",
       "type              4580490\n",
       "inserted          4580490\n",
       "response_time     4580490\n",
       "place_map         4182678\n",
       "language          4580490\n",
       "options           4580490\n",
       "ip_country        4027078\n",
       "ip_id             4031549\n",
       "correct           4580490\n",
       "dtype: int64"
      ]
     },
     "execution_count": 20,
     "metadata": {},
     "output_type": "execute_result"
    }
   ],
   "source": [
    "filtered['correct'].mean()\n",
    "filtered.count()"
   ]
  },
  {
   "cell_type": "code",
   "execution_count": null,
   "metadata": {},
   "outputs": [],
   "source": []
  }
 ],
 "metadata": {
  "kernelspec": {
   "display_name": "Python 3",
   "language": "python",
   "name": "python3"
  },
  "language_info": {
   "codemirror_mode": {
    "name": "ipython",
    "version": 3
   },
   "file_extension": ".py",
   "mimetype": "text/x-python",
   "name": "python",
   "nbconvert_exporter": "python",
   "pygments_lexer": "ipython3",
   "version": "3.6.4"
  }
 },
 "nbformat": 4,
 "nbformat_minor": 1
}
