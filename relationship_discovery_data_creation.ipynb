{
 "cells": [
  {
   "cell_type": "code",
   "execution_count": 1,
   "metadata": {},
   "outputs": [
    {
     "name": "stderr",
     "output_type": "stream",
     "text": [
      "/home/dave/anaconda3/lib/python3.6/site-packages/h5py/__init__.py:36: FutureWarning: Conversion of the second argument of issubdtype from `float` to `np.floating` is deprecated. In future, it will be treated as `np.float64 == np.dtype(float).type`.\n",
      "  from ._conv import register_converters as _register_converters\n",
      "Please import comet before importing any Tensorflow modules\n",
      "Please import comet before importing any Tensorflow modules\n"
     ]
    },
    {
     "name": "stdout",
     "output_type": "stream",
     "text": [
      "225\n",
      "INFO:tensorflow:Restoring parameters from /home/dave/projects/savedNetwork/model.ckpt\n"
     ]
    }
   ],
   "source": [
    "from __future__ import print_function, division\n",
    "%matplotlib inline\n",
    "\n",
    "import tensorflow as tf\n",
    "import numpy as np\n",
    "import nn_model_tensorflow as nn_model\n",
    "import output_writer\n",
    "import evaluation_helper\n",
    "import maps.map_helper as map_helper\n",
    "sess = tf.Session()\n",
    "num_classes = 225\n",
    "num_steps = 499\n",
    "model = nn_model.Model(num_classes, num_steps, sess, True)"
   ]
  },
  {
   "cell_type": "code",
   "execution_count": 2,
   "metadata": {},
   "outputs": [],
   "source": [
    "for i in range(225):\n",
    "    questions = []\n",
    "    answers = []\n",
    "    questions.append(i)\n",
    "    answers.append(1)\n",
    "    ques, ans, seq_len = map_helper.create_data_for_nn(answers,questions,1)\n",
    "    map_helper.run_data_on_nn(model, ans, ques, seq_len, i)\n",
    "   \n",
    "\n"
   ]
  },
  {
   "cell_type": "code",
   "execution_count": null,
   "metadata": {},
   "outputs": [],
   "source": [
    "\n"
   ]
  },
  {
   "cell_type": "code",
   "execution_count": null,
   "metadata": {},
   "outputs": [],
   "source": []
  }
 ],
 "metadata": {
  "kernelspec": {
   "display_name": "Python 3",
   "language": "python",
   "name": "python3"
  },
  "language_info": {
   "codemirror_mode": {
    "name": "ipython",
    "version": 3
   },
   "file_extension": ".py",
   "mimetype": "text/x-python",
   "name": "python",
   "nbconvert_exporter": "python",
   "pygments_lexer": "ipython3",
   "version": "3.6.4"
  }
 },
 "nbformat": 4,
 "nbformat_minor": 2
}
