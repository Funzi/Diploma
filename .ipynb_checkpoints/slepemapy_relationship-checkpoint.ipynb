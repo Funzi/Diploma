{
 "cells": [
  {
   "cell_type": "code",
   "execution_count": 1,
   "metadata": {},
   "outputs": [
    {
     "data": {
      "text/plain": [
       "174"
      ]
     },
     "execution_count": 1,
     "metadata": {},
     "output_type": "execute_result"
    }
   ],
   "source": [
    "%matplotlib inline\n",
    "import pandas as pd\n",
    "import evaluation_helper as eval\n",
    "import seaborn as sns\n",
    "import numpy as np\n",
    "import networkx as nx\n",
    "import matplotlib.pyplot as plt\n",
    "from networkx_viewer import Viewer\n",
    "\n",
    "\n",
    "count = 224 - 51\n",
    "                     \n",
    "# Read in data\n",
    "files = []\n",
    "predictions = []\n",
    "for i in range(51, 224):\n",
    "    file = pd.read_csv('./maps/nn_output/probabilities' + str(i) + '.csv', sep=';')\n",
    "    predictions.append(file['prediction'].values[51:])\n",
    "    \n",
    "len(predictions[0])   \n",
    "    \n",
    "\n",
    "    "
   ]
  },
  {
   "cell_type": "code",
   "execution_count": 125,
   "metadata": {},
   "outputs": [
    {
     "name": "stdout",
     "output_type": "stream",
     "text": [
      "38\n",
      "38\n"
     ]
    }
   ],
   "source": [
    "averages = []\n",
    "ids_europe = [\"51\", \"64\", \"66\", \"70\", \"74\", \"78\", \"79\", \"81\",\n",
    "       \"88\", \"93\", \"94\", \"108\", \"113\", \"114\", \"115\", \"142\",\n",
    "       \"143\", \"144\", \"146\", \"147\", \"154\", \"159\", \"164\", \"165\",\n",
    "       \"176\", \"178\", \"179\", \"181\", \"182\", \"184\", \"190\", \"191\",\n",
    "       \"194\", \"196\", \"203\", \"205\", \"206\", \"216\"]\n",
    "\n",
    "ids_africa = [\"56\", \"57\", \"67\", \"71\", \"75\", \"76\", \"77\", \"82\",\n",
    "       \"84\", \"85\", \"87\", \"89\", \"96\", \"97\", \"98\", \"102\",\n",
    "       \"103\", \"120\", \"122\", \"125\", \"129\", \"131\", \"138\", \"140\",\n",
    "       \"141\", \"145\", \"149\", \"150\", \"151\", \"152\", \"156\", \"158\",\n",
    "       \"161\", \"162\", \"175\", \"180\", \"183\", \"187\", \"189\", \"192\",\n",
    "       \"197\", \"198\", \"200\", \"208\", \"211\", \"212\", \"215\", \"222\",\n",
    "       \"223\", \"224\", \"235\"]\n",
    "\n",
    "for i in range (count):\n",
    "    suma = 0\n",
    "    for j in range(count):\n",
    "        suma += predictions[i][j]\n",
    "    averages.append(suma/count)\n",
    "\n",
    "relationships = []\n",
    "for i in range (count):\n",
    "    if str(i+51) in ids_europe:\n",
    "        relationship = []\n",
    "        for j in range(count):\n",
    "            if str(j+51)in ids_europe:\n",
    "                relationship.append(predictions[i][j]/averages[i])\n",
    "        relationships.append(relationship)\n",
    "\n",
    "print(len(relationships))\n",
    "print(len(relationships[0]))"
   ]
  },
  {
   "cell_type": "code",
   "execution_count": 126,
   "metadata": {},
   "outputs": [
    {
     "data": {
      "text/plain": [
       "48                    Albania\n",
       "61                    Belgium\n",
       "63                    Belarus\n",
       "67     Bosnia and Herzegovina\n",
       "71                   Bulgaria\n",
       "75                 Montenegro\n",
       "76                 Czech Rep.\n",
       "78                    Denmark\n",
       "85                    Estonia\n",
       "90                    Finland\n",
       "91                     France\n",
       "105                   Croatia\n",
       "110                   Ireland\n",
       "111                   Iceland\n",
       "112                     Italy\n",
       "139                 Lithuania\n",
       "140                    Latvia\n",
       "141                Luxembourg\n",
       "143                   Hungary\n",
       "144                 Macedonia\n",
       "151                   Moldova\n",
       "156                   Germany\n",
       "161               Netherlands\n",
       "162                    Norway\n",
       "173                    Poland\n",
       "175                  Portugal\n",
       "176                   Austria\n",
       "178                   Romania\n",
       "179                    Russia\n",
       "181                    Greece\n",
       "187                  Slovakia\n",
       "188                  Slovenia\n",
       "191            United Kingdom\n",
       "193                    Serbia\n",
       "200                     Spain\n",
       "202                    Sweden\n",
       "203               Switzerland\n",
       "213                   Ukraine\n",
       "Name: name, dtype: object"
      ]
     },
     "execution_count": 126,
     "metadata": {},
     "output_type": "execute_result"
    }
   ],
   "source": [
    "labels = pd.read_csv('./data/place_code_relat.csv', sep=',')\n",
    "\n",
    "# labels = labels['name']\n",
    "# labels = labels['name'][48:222]\n",
    "# labels\n",
    "\n",
    "\n",
    "# labels = pd.read_csv('./data/place_code_relat.csv', sep=',')\n",
    "\n",
    "# labels = labels['name']\n",
    "ids =[int(i) for i in ids_europe]\n",
    "europe_labels = []\n",
    "\n",
    "labels= labels.loc[labels['id'].isin(ids)]\n",
    "labels= labels['name']\n",
    "labels"
   ]
  },
  {
   "cell_type": "code",
   "execution_count": 127,
   "metadata": {},
   "outputs": [],
   "source": [
    "test =[label[1] for label in labels.items()]\n",
    "test\n",
    "df = pd.DataFrame(relationships, columns=[label[1] for label in labels.items()])"
   ]
  },
  {
   "cell_type": "code",
   "execution_count": 128,
   "metadata": {},
   "outputs": [],
   "source": [
    "corr = df.corr()\n",
    "# corr"
   ]
  },
  {
   "cell_type": "code",
   "execution_count": 129,
   "metadata": {},
   "outputs": [],
   "source": [
    "# Transform it in a links data frame (3 columns only):\n",
    "links = corr.stack().reset_index()\n",
    "links.columns = ['var1', 'var2','value']\n",
    "\n"
   ]
  },
  {
   "cell_type": "code",
   "execution_count": 164,
   "metadata": {},
   "outputs": [],
   "source": [
    "# Keep only correlation over a threshold and remove self correlation (cor(A,A)=1)\n",
    "\n",
    "links_filtered=links.loc[ (links['value'] > 0.75) & (links['var1'] != links['var2']) ]\n",
    "links_filtered=links_filtered[links_filtered.var1.isnull() == False]\n",
    "links_filtered=links_filtered[links_filtered.var2.isnull() == False]\n",
    "\n",
    "links_filtered = links_filtered.sort_values(by=['value'],ascending=False)\n",
    "links_filtered = links_filtered.groupby('var1').head(3)\n",
    "\n"
   ]
  },
  {
   "cell_type": "code",
   "execution_count": 165,
   "metadata": {},
   "outputs": [
    {
     "data": {
      "image/png": "[encoded data removed]",
      "text/plain": [
       "<Figure size 432x288 with 1 Axes>"
      ]
     },
     "metadata": {},
     "output_type": "display_data"
    }
   ],
   "source": [
    "# Build your graph\n",
    "G=nx.from_pandas_edgelist(links_filtered, 'var1', 'var2')\n",
    "# Plot the network:\n",
    "nx.draw(G, with_labels=True, node_color='orange', node_size=500, edge_color='black', linewidths=10, font_size=8,pos=nx.spring_layout(G))\n"
   ]
  },
  {
   "cell_type": "code",
   "execution_count": 9,
   "metadata": {},
   "outputs": [
    {
     "data": {
      "text/plain": [
       "<Figure size 432x288 with 0 Axes>"
      ]
     },
     "metadata": {},
     "output_type": "display_data"
    }
   ],
   "source": [
    "plt.savefig(\"graph.pdf\")\n",
    "plt.show()"
   ]
  },
  {
   "cell_type": "code",
   "execution_count": 10,
   "metadata": {},
   "outputs": [
    {
     "ename": "NameError",
     "evalue": "name 'savefig' is not defined",
     "output_type": "error",
     "traceback": [
      "\u001b[0;31m---------------------------------------------------------------------------\u001b[0m",
      "\u001b[0;31mNameError\u001b[0m                                 Traceback (most recent call last)",
      "\u001b[0;32m<ipython-input-10-df71d61bbb2d>\u001b[0m in \u001b[0;36m<module>\u001b[0;34m()\u001b[0m\n\u001b[0;32m----> 1\u001b[0;31m \u001b[0msavefig\u001b[0m\u001b[0;34m(\u001b[0m\u001b[0;34m\"graph.png\"\u001b[0m\u001b[0;34m,\u001b[0m \u001b[0mdpi\u001b[0m\u001b[0;34m=\u001b[0m\u001b[0;36m1000\u001b[0m\u001b[0;34m)\u001b[0m\u001b[0;34m\u001b[0m\u001b[0m\n\u001b[0m",
      "\u001b[0;31mNameError\u001b[0m: name 'savefig' is not defined"
     ]
    }
   ],
   "source": [
    "savefig(\"graph.png\", dpi=1000)"
   ]
  },
  {
   "cell_type": "code",
   "execution_count": null,
   "metadata": {},
   "outputs": [],
   "source": [
    "app = Viewer(G)"
   ]
  },
  {
   "cell_type": "code",
   "execution_count": null,
   "metadata": {},
   "outputs": [],
   "source": []
  }
 ],
 "metadata": {
  "kernelspec": {
   "display_name": "Python 3",
   "language": "python",
   "name": "python3"
  },
  "language_info": {
   "codemirror_mode": {
    "name": "ipython",
    "version": 3
   },
   "file_extension": ".py",
   "mimetype": "text/x-python",
   "name": "python",
   "nbconvert_exporter": "python",
   "pygments_lexer": "ipython3",
   "version": "3.6.4"
  }
 },
 "nbformat": 4,
 "nbformat_minor": 2
}
