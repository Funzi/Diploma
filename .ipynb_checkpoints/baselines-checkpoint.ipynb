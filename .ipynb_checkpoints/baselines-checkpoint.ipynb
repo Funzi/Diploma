{
 "cells": [
  {
   "cell_type": "code",
   "execution_count": 1,
   "metadata": {},
   "outputs": [
    {
     "name": "stderr",
     "output_type": "stream",
     "text": [
      "/home/dave/anaconda3/lib/python3.6/site-packages/IPython/core/interactiveshell.py:2728: DtypeWarning: Columns (10) have mixed types. Specify dtype option on import or set low_memory=False.\n",
      "  interactivity=interactivity, compiler=compiler, result=result)\n"
     ]
    }
   ],
   "source": [
    "import pandas as pd\n",
    "import evaluation_helper as eval\n",
    "\n",
    "# Read in data\n",
    "\n",
    "features = pd.read_csv('./data/answer.csv', sep=';')\n"
   ]
  },
  {
   "cell_type": "code",
   "execution_count": 2,
   "metadata": {},
   "outputs": [],
   "source": [
    "# Parsing labels\n",
    "import numpy as np\n",
    "questions = np.array(features['place_asked'])\n",
    "answers = np.array(features['place_answered'])\n",
    "labels = np.equal(questions, answers)\n",
    "labels = list(map(lambda x: 1 if x else 0, labels))\n",
    "features['correct'] = np.array(labels)\n"
   ]
  },
  {
   "cell_type": "code",
   "execution_count": 3,
   "metadata": {},
   "outputs": [],
   "source": [
    "ids = [i for i in range(1473)]\n",
    "filtered = features[features['place_asked'].isin(ids)]\n",
    "grouped = filtered.groupby('place_asked')['correct'].agg([['averages','mean']])"
   ]
  },
  {
   "cell_type": "code",
   "execution_count": 4,
   "metadata": {},
   "outputs": [
    {
     "data": {
      "text/html": [
       "<div>\n",
       "<style scoped>\n",
       "    .dataframe tbody tr th:only-of-type {\n",
       "        vertical-align: middle;\n",
       "    }\n",
       "\n",
       "    .dataframe tbody tr th {\n",
       "        vertical-align: top;\n",
       "    }\n",
       "\n",
       "    .dataframe thead th {\n",
       "        text-align: right;\n",
       "    }\n",
       "</style>\n",
       "<table border=\"1\" class=\"dataframe\">\n",
       "  <thead>\n",
       "    <tr style=\"text-align: right;\">\n",
       "      <th></th>\n",
       "      <th>id</th>\n",
       "      <th>user</th>\n",
       "      <th>place_asked</th>\n",
       "      <th>place_answered</th>\n",
       "      <th>type</th>\n",
       "      <th>inserted</th>\n",
       "      <th>response_time</th>\n",
       "      <th>place_map</th>\n",
       "      <th>language</th>\n",
       "      <th>options</th>\n",
       "      <th>ip_country</th>\n",
       "      <th>ip_id</th>\n",
       "      <th>correct</th>\n",
       "    </tr>\n",
       "  </thead>\n",
       "  <tbody>\n",
       "    <tr>\n",
       "      <th>4744233</th>\n",
       "      <td>4758370</td>\n",
       "      <td>58910</td>\n",
       "      <td>575</td>\n",
       "      <td>576.0</td>\n",
       "      <td>1</td>\n",
       "      <td>2014-12-13 18:19:05</td>\n",
       "      <td>5100</td>\n",
       "      <td>229.0</td>\n",
       "      <td>0</td>\n",
       "      <td>[]</td>\n",
       "      <td>SK</td>\n",
       "      <td>22028.0</td>\n",
       "      <td>0</td>\n",
       "    </tr>\n",
       "    <tr>\n",
       "      <th>5546483</th>\n",
       "      <td>5560642</td>\n",
       "      <td>67223</td>\n",
       "      <td>124</td>\n",
       "      <td>63.0</td>\n",
       "      <td>1</td>\n",
       "      <td>2015-01-12 08:49:48</td>\n",
       "      <td>11045</td>\n",
       "      <td>231.0</td>\n",
       "      <td>0</td>\n",
       "      <td>[]</td>\n",
       "      <td>CZ</td>\n",
       "      <td>19273.0</td>\n",
       "      <td>0</td>\n",
       "    </tr>\n",
       "    <tr>\n",
       "      <th>2103537</th>\n",
       "      <td>2117403</td>\n",
       "      <td>22685</td>\n",
       "      <td>184</td>\n",
       "      <td>184.0</td>\n",
       "      <td>1</td>\n",
       "      <td>2014-09-12 13:20:00</td>\n",
       "      <td>15324</td>\n",
       "      <td>230.0</td>\n",
       "      <td>0</td>\n",
       "      <td>[]</td>\n",
       "      <td>CZ</td>\n",
       "      <td>100.0</td>\n",
       "      <td>1</td>\n",
       "    </tr>\n",
       "    <tr>\n",
       "      <th>4756740</th>\n",
       "      <td>4770877</td>\n",
       "      <td>55542</td>\n",
       "      <td>84</td>\n",
       "      <td>235.0</td>\n",
       "      <td>1</td>\n",
       "      <td>2014-12-14 12:00:02</td>\n",
       "      <td>5014</td>\n",
       "      <td>227.0</td>\n",
       "      <td>0</td>\n",
       "      <td>[]</td>\n",
       "      <td>CZ</td>\n",
       "      <td>20861.0</td>\n",
       "      <td>0</td>\n",
       "    </tr>\n",
       "    <tr>\n",
       "      <th>7464549</th>\n",
       "      <td>7478909</td>\n",
       "      <td>89108</td>\n",
       "      <td>1011</td>\n",
       "      <td>1011.0</td>\n",
       "      <td>1</td>\n",
       "      <td>2015-03-05 18:09:20</td>\n",
       "      <td>4998</td>\n",
       "      <td>231.0</td>\n",
       "      <td>0</td>\n",
       "      <td>[]</td>\n",
       "      <td>SK</td>\n",
       "      <td>33590.0</td>\n",
       "      <td>1</td>\n",
       "    </tr>\n",
       "  </tbody>\n",
       "</table>\n",
       "</div>"
      ],
      "text/plain": [
       "              id   user  place_asked  place_answered  type  \\\n",
       "4744233  4758370  58910          575           576.0     1   \n",
       "5546483  5560642  67223          124            63.0     1   \n",
       "2103537  2117403  22685          184           184.0     1   \n",
       "4756740  4770877  55542           84           235.0     1   \n",
       "7464549  7478909  89108         1011          1011.0     1   \n",
       "\n",
       "                    inserted  response_time  place_map  language options  \\\n",
       "4744233  2014-12-13 18:19:05           5100      229.0         0      []   \n",
       "5546483  2015-01-12 08:49:48          11045      231.0         0      []   \n",
       "2103537  2014-09-12 13:20:00          15324      230.0         0      []   \n",
       "4756740  2014-12-14 12:00:02           5014      227.0         0      []   \n",
       "7464549  2015-03-05 18:09:20           4998      231.0         0      []   \n",
       "\n",
       "        ip_country    ip_id  correct  \n",
       "4744233         SK  22028.0        0  \n",
       "5546483         CZ  19273.0        0  \n",
       "2103537         CZ    100.0        1  \n",
       "4756740         CZ  20861.0        0  \n",
       "7464549         SK  33590.0        1  "
      ]
     },
     "execution_count": 4,
     "metadata": {},
     "output_type": "execute_result"
    }
   ],
   "source": [
    "features.sample(5)"
   ]
  },
  {
   "cell_type": "code",
   "execution_count": null,
   "metadata": {},
   "outputs": [],
   "source": [
    "correct_labels = features['correct']\n",
    "prediction_labels = []\n",
    "averages = grouped['averages']\n",
    "\n",
    "for index, row in features.iterrows():\n",
    "    question_id = int(row['place_asked'])\n",
    "    prediction_labels.append(averages[question_id])\n",
    "    \n",
    "\n",
    "precition_labels = [int(grouped[row['place_asked']]) for row in features]"
   ]
  },
  {
   "cell_type": "code",
   "execution_count": null,
   "metadata": {},
   "outputs": [],
   "source": []
  }
 ],
 "metadata": {
  "kernelspec": {
   "display_name": "Python 3",
   "language": "python",
   "name": "python3"
  },
  "language_info": {
   "codemirror_mode": {
    "name": "ipython",
    "version": 3
   },
   "file_extension": ".py",
   "mimetype": "text/x-python",
   "name": "python",
   "nbconvert_exporter": "python",
   "pygments_lexer": "ipython3",
   "version": "3.6.4"
  }
 },
 "nbformat": 4,
 "nbformat_minor": 1
}
