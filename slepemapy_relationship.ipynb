{
 "cells": [
  {
   "cell_type": "code",
   "execution_count": 171,
   "metadata": {},
   "outputs": [
    {
     "data": {
      "text/plain": [
       "174"
      ]
     },
     "execution_count": 171,
     "metadata": {},
     "output_type": "execute_result"
    }
   ],
   "source": [
    "%matplotlib inline\n",
    "import pandas as pd\n",
    "import evaluation_helper as eval\n",
    "import seaborn as sns\n",
    "import numpy as np\n",
    "import networkx as nx\n",
    "import matplotlib.pyplot as plt\n",
    "from networkx_viewer import Viewer\n",
    "\n",
    "\n",
    "count = 224 - 51\n",
    "                     \n",
    "# Read in data\n",
    "files = []\n",
    "predictions = []\n",
    "for i in range(51, 224):\n",
    "    file = pd.read_csv('./maps/nn_output/probabilities' + str(i) + '.csv', sep=';')\n",
    "    predictions.append(file['prediction'].values[51:])\n",
    "    \n",
    "len(predictions[0])   \n",
    "    \n",
    "\n",
    "    "
   ]
  },
  {
   "cell_type": "code",
   "execution_count": 175,
   "metadata": {},
   "outputs": [
    {
     "name": "stdout",
     "output_type": "stream",
     "text": [
      "49\n",
      "49\n"
     ]
    }
   ],
   "source": [
    "averages = []\n",
    "ids_europe = [\"51\", \"64\", \"66\", \"70\", \"74\", \"78\", \"79\", \"81\",\n",
    "       \"88\", \"93\", \"94\", \"108\", \"113\", \"114\", \"115\", \"142\",\n",
    "       \"143\", \"144\", \"146\", \"147\", \"154\", \"159\", \"164\", \"165\",\n",
    "       \"176\", \"178\", \"179\", \"181\", \"182\", \"184\", \"190\", \"191\",\n",
    "       \"194\", \"196\", \"203\", \"205\", \"206\", \"216\"]\n",
    "\n",
    "ids_africa = [\"56\", \"57\", \"67\", \"71\", \"75\", \"76\", \"77\", \"82\",\n",
    "       \"84\", \"85\", \"87\", \"89\", \"96\", \"97\", \"98\", \"102\",\n",
    "       \"103\", \"120\", \"122\", \"125\", \"129\", \"131\", \"138\", \"140\",\n",
    "       \"141\", \"145\", \"149\", \"150\", \"151\", \"152\", \"156\", \"158\",\n",
    "       \"161\", \"162\", \"175\", \"180\", \"183\", \"187\", \"189\", \"192\",\n",
    "       \"197\", \"198\", \"200\", \"208\", \"211\", \"212\", \"215\", \"222\",\n",
    "       \"223\"]\n",
    "\n",
    "for i in range (count):\n",
    "    suma = 0\n",
    "    for j in range(count):\n",
    "        suma += predictions[i][j]\n",
    "    averages.append(suma/count)\n",
    "\n",
    "relationships = []\n",
    "for i in range (count):\n",
    "    if str(i+51) in ids_africa:\n",
    "        relationship = []\n",
    "        for j in range(count):\n",
    "            if str(j+51)in ids_africa:\n",
    "                relationship.append(predictions[i][j]/averages[i])\n",
    "        relationships.append(relationship)\n",
    "\n",
    "print(len(relationships))\n",
    "print(len(relationships[0]))"
   ]
  },
  {
   "cell_type": "code",
   "execution_count": 176,
   "metadata": {},
   "outputs": [
    {
     "data": {
      "text/plain": [
       "53                  Algeria\n",
       "54                   Angola\n",
       "64                    Benin\n",
       "68                 Botswana\n",
       "72             Burkina Faso\n",
       "73                  Burundi\n",
       "74                     Chad\n",
       "79          Dem. Rep. Congo\n",
       "81                 Djibouti\n",
       "82                    Egypt\n",
       "84                  Eritrea\n",
       "86                 Ethiopia\n",
       "93                    Gabon\n",
       "94                   Gambia\n",
       "95                    Ghana\n",
       "99                   Guinea\n",
       "100           Guinea-Bissau\n",
       "117            South Africa\n",
       "119                S. Sudan\n",
       "122                Cameroon\n",
       "126                   Kenya\n",
       "128                   Congo\n",
       "135                 Lesotho\n",
       "137                 Liberia\n",
       "138                   Libya\n",
       "142              Madagascar\n",
       "146                  Malawi\n",
       "147                    Mali\n",
       "148                 Morocco\n",
       "149              Mauritania\n",
       "153              Mozambique\n",
       "155                 Namibia\n",
       "158                   Niger\n",
       "159                 Nigeria\n",
       "172           Côte d'Ivoire\n",
       "177              Eq. Guinea\n",
       "180                  Rwanda\n",
       "184                 Senegal\n",
       "186            Sierra Leone\n",
       "189                 Somalia\n",
       "194    Central African Rep.\n",
       "195                   Sudan\n",
       "197               Swaziland\n",
       "205                Tanzania\n",
       "208                    Togo\n",
       "209                 Tunisia\n",
       "212                  Uganda\n",
       "219                  Zambia\n",
       "220               W. Sahara\n",
       "Name: name, dtype: object"
      ]
     },
     "execution_count": 176,
     "metadata": {},
     "output_type": "execute_result"
    }
   ],
   "source": [
    "labels = pd.read_csv('./data/place_code_relat.csv', sep=',')\n",
    "\n",
    "# labels = labels['name']\n",
    "# labels = labels['name'][48:222]\n",
    "# labels\n",
    "\n",
    "\n",
    "# labels = pd.read_csv('./data/place_code_relat.csv', sep=',')\n",
    "\n",
    "# labels = labels['name']\n",
    "ids =[int(i) for i in ids_africa]\n",
    "europe_labels = []\n",
    "\n",
    "labels= labels.loc[labels['id'].isin(ids)]\n",
    "labels= labels['name']\n",
    "labels"
   ]
  },
  {
   "cell_type": "code",
   "execution_count": 177,
   "metadata": {},
   "outputs": [],
   "source": [
    "test =[label[1] for label in labels.items()]\n",
    "test\n",
    "df = pd.DataFrame(relationships, columns=[label[1] for label in labels.items()])"
   ]
  },
  {
   "cell_type": "code",
   "execution_count": 178,
   "metadata": {},
   "outputs": [],
   "source": [
    "corr = df.corr()\n",
    "# corr"
   ]
  },
  {
   "cell_type": "code",
   "execution_count": 179,
   "metadata": {},
   "outputs": [],
   "source": [
    "# Transform it in a links data frame (3 columns only):\n",
    "links = corr.stack().reset_index()\n",
    "links.columns = ['var1', 'var2','value']\n",
    "\n"
   ]
  },
  {
   "cell_type": "code",
   "execution_count": 188,
   "metadata": {},
   "outputs": [],
   "source": [
    "# Keep only correlation over a threshold and remove self correlation (cor(A,A)=1)\n",
    "\n",
    "links_filtered=links.loc[ (links['value'] > 0.6) & (links['var1'] != links['var2']) ]\n",
    "links_filtered=links_filtered[links_filtered.var1.isnull() == False]\n",
    "links_filtered=links_filtered[links_filtered.var2.isnull() == False]\n",
    "\n",
    "links_filtered = links_filtered.sort_values(by=['value'],ascending=False)\n",
    "links_filtered = links_filtered.groupby('var1').head(3)\n",
    "\n"
   ]
  },
  {
   "cell_type": "code",
   "execution_count": 189,
   "metadata": {},
   "outputs": [
    {
     "data": {
      "image/png": "[encoded data removed]",
      "text/plain": [
       "<Figure size 432x288 with 1 Axes>"
      ]
     },
     "metadata": {},
     "output_type": "display_data"
    }
   ],
   "source": [
    "# Build your graph\n",
    "G=nx.from_pandas_edgelist(links_filtered, 'var1', 'var2')\n",
    "# Plot the network:\n",
    "nx.draw(G, with_labels=True, node_color='orange', node_size=500, edge_color='black', linewidths=10, font_size=8,pos=nx.spring_layout(G))\n"
   ]
  },
  {
   "cell_type": "code",
   "execution_count": null,
   "metadata": {},
   "outputs": [],
   "source": [
    "\n",
    "\n",
    "\n"
   ]
  }
 ],
 "metadata": {
  "kernelspec": {
   "display_name": "Python 3",
   "language": "python",
   "name": "python3"
  },
  "language_info": {
   "codemirror_mode": {
    "name": "ipython",
    "version": 3
   },
   "file_extension": ".py",
   "mimetype": "text/x-python",
   "name": "python",
   "nbconvert_exporter": "python",
   "pygments_lexer": "ipython3",
   "version": "3.6.4"
  }
 },
 "nbformat": 4,
 "nbformat_minor": 2
}
